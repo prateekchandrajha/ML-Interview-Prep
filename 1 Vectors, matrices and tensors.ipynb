{
  "nbformat": 4,
  "nbformat_minor": 0,
  "metadata": {
    "kernelspec": {
      "display_name": "Python [default]",
      "language": "python",
      "name": "python3"
    },
    "language_info": {
      "codemirror_mode": {
        "name": "ipython",
        "version": 3
      },
      "file_extension": ".py",
      "mimetype": "text/x-python",
      "name": "python",
      "nbconvert_exporter": "python",
      "pygments_lexer": "ipython3",
      "version": "3.5.4"
    },
    "varInspector": {
      "cols": {
        "lenName": 16,
        "lenType": 16,
        "lenVar": 40
      },
      "kernels_config": {
        "python": {
          "delete_cmd_postfix": "",
          "delete_cmd_prefix": "del ",
          "library": "var_list.py",
          "varRefreshCmd": "print(var_dic_list())"
        },
        "r": {
          "delete_cmd_postfix": ") ",
          "delete_cmd_prefix": "rm(",
          "library": "var_list.r",
          "varRefreshCmd": "cat(var_dic_list()) "
        }
      },
      "types_to_exclude": [
        "module",
        "function",
        "builtin_function_or_method",
        "instance",
        "_Feature"
      ],
      "window_display": false
    },
    "colab": {
      "name": "1 Vectors, matrices and tensors.ipynb",
      "provenance": []
    }
  },
  "cells": [
    {
      "cell_type": "markdown",
      "metadata": {
        "id": "drRtZSmSoW2o"
      },
      "source": [
        "# Thinking in tensors, writing in PyTorch\n",
        "\n",
        "A hands-on course by [Piotr Migdał](https://p.migdal.pl) (2019).\n",
        "\n",
        "[![Open In Colab](https://colab.research.google.com/assets/colab-badge.svg)](https://colab.research.google.com/github/stared/thinking-in-tensors-writing-in-pytorch/blob/master/1%20Vectors%2C%20matrices%20and%20tensors.ipynb)\n",
        "\n",
        "\n",
        "## Notebook 1: Vectors, matrices and tensors\n",
        "\n",
        "So, what is a tensor?\n",
        "\n",
        "**WORK IN PROGRESS**\n",
        "\n",
        "### TO DO:\n",
        "\n",
        "* more examples\n",
        "* [Deep Spreadsheets with ExcelNet](http://www.deepexcel.net/)"
      ]
    },
    {
      "cell_type": "code",
      "metadata": {
        "id": "CMHpsi6FoW25"
      },
      "source": [
        "import torch\n",
        "from torch import tensor"
      ],
      "execution_count": 1,
      "outputs": []
    },
    {
      "cell_type": "markdown",
      "metadata": {
        "id": "wObbCaKmoW27"
      },
      "source": [
        "\n",
        "\n",
        "Linear algebra is the language of deep learning... and quantum mechanics.\n",
        "\n",
        "Note: in physics and engineering, tensor is not any array. There is a one-two-many rule: \n",
        "\n",
        "* 0: scalar\n",
        "* 1: vector\n",
        "* 2: matrix\n",
        "* 3 and above: n-dimensional tensor\n",
        "\n",
        "In theory, tensors can be of an arbitrarily high dimension. In deep learning, they rare exceed 5."
      ]
    },
    {
      "cell_type": "markdown",
      "metadata": {
        "id": "JJ_Tl7z_oW28"
      },
      "source": [
        "## Scalar\n",
        "\n",
        "Scalar is \"just a number\". Real-world examples of a scalar are: temperature, pressure, price of an apple in a given shop, etc."
      ]
    },
    {
      "cell_type": "code",
      "metadata": {
        "id": "egbHTmjVoW29",
        "outputId": "3598d88d-06f5-40ff-9a7a-9cf5d6913ffd",
        "colab": {
          "base_uri": "https://localhost:8080/"
        }
      },
      "source": [
        "x = tensor(42.)\n",
        "x"
      ],
      "execution_count": 2,
      "outputs": [
        {
          "output_type": "execute_result",
          "data": {
            "text/plain": [
              "tensor(42.)"
            ]
          },
          "metadata": {
            "tags": []
          },
          "execution_count": 2
        }
      ]
    },
    {
      "cell_type": "code",
      "metadata": {
        "id": "hbU8ZMVCoW2-",
        "outputId": "ff6ad37d-894d-463a-d986-0e27966a17ad",
        "colab": {
          "base_uri": "https://localhost:8080/"
        }
      },
      "source": [
        "x.dim()"
      ],
      "execution_count": 3,
      "outputs": [
        {
          "output_type": "execute_result",
          "data": {
            "text/plain": [
              "0"
            ]
          },
          "metadata": {
            "tags": []
          },
          "execution_count": 3
        }
      ]
    },
    {
      "cell_type": "code",
      "metadata": {
        "id": "gPuP86LAoW2_",
        "outputId": "74697dd9-fe2a-4624-f78b-98efb093a045",
        "colab": {
          "base_uri": "https://localhost:8080/"
        }
      },
      "source": [
        "2 * x"
      ],
      "execution_count": 4,
      "outputs": [
        {
          "output_type": "execute_result",
          "data": {
            "text/plain": [
              "tensor(84.)"
            ]
          },
          "metadata": {
            "tags": []
          },
          "execution_count": 4
        }
      ]
    },
    {
      "cell_type": "code",
      "metadata": {
        "id": "1A4n5R56oW3A",
        "outputId": "bfe3cdb6-f05b-4b70-9d86-eba204a2b228",
        "colab": {
          "base_uri": "https://localhost:8080/"
        }
      },
      "source": [
        "x.item()"
      ],
      "execution_count": 5,
      "outputs": [
        {
          "output_type": "execute_result",
          "data": {
            "text/plain": [
              "42.0"
            ]
          },
          "metadata": {
            "tags": []
          },
          "execution_count": 5
        }
      ]
    },
    {
      "cell_type": "markdown",
      "metadata": {
        "id": "xKW1Uk1toW3B"
      },
      "source": [
        "### Food for thought\n",
        "\n",
        "> The scalar fallacy is the false but pervasive assumption that real-world things (hotels, sandwiches, people, mutual funds, chemo drugs, whatever) have some single-dimension ordering of \"goodness\".\n",
        "\n",
        "> When you project a multi-dimensional space down to one dimension, you are involving a lot of context and preferences in the act of projecting. - [rlucas on HN](https://news.ycombinator.com/item?id=8132525)\n",
        "\n",
        "See also: [Scalar fallacy](http://observationalepidemiology.blogspot.com/2011/01/scalar-fallacy.html).\n"
      ]
    },
    {
      "cell_type": "markdown",
      "metadata": {
        "id": "OLj261oqoW3C"
      },
      "source": [
        "## Vector\n",
        "\n",
        "Vector is an ordered list of numbers, such as `[-5., 2., 0.]`.\n",
        "\n",
        "In physics and mechanical engineering, not everything is a vector:\n",
        "\n",
        "> it is not generally true that any three numbers form a vector. It is true only if, when we rotate the coordinate system, the components of the vector transform among themselves in the correct way. - [II 02: Differential Calculus of Vector Fields](http://www.feynmanlectures.caltech.edu/II_02.html) from [The Feynman Lectures on Physics](http://www.feynmanlectures.caltech.edu/)\n",
        "\n",
        "* position\n",
        "* velocity\n",
        "* electric field\n",
        "* spatial gradient of a scalar field ($\\nabla T$)\n",
        "\n",
        "\n",
        "In deep learning we are more... relaxed. Usually vectors are abstract, \n",
        "\n",
        "\n",
        "* feature vector after a ImageNet-trained vector\n",
        "* a word representation in (see: [king - man + woman is queen; but why?](https://p.migdal.pl/2017/01/06/king-man-woman-queen-why.html))\n",
        "* user and product vectors in [Factorization Machines](https://www.reddit.com/r/MachineLearning/comments/65d3lt/r_factorization_machines_2010_a_classic_paper_in/) and related recommendation systems\n",
        "\n",
        "\n",
        "$$\\vec{v} = \\left[ v_1, v_2, \\ldots, v_n \\right]$$"
      ]
    },
    {
      "cell_type": "code",
      "metadata": {
        "id": "ZMGSuDJVoW3D",
        "outputId": "0a131487-8fa8-41de-f984-281d2b096387",
        "colab": {
          "base_uri": "https://localhost:8080/"
        }
      },
      "source": [
        "v = tensor([1.5, -0.5, 3.0])\n",
        "v"
      ],
      "execution_count": 6,
      "outputs": [
        {
          "output_type": "execute_result",
          "data": {
            "text/plain": [
              "tensor([ 1.5000, -0.5000,  3.0000])"
            ]
          },
          "metadata": {
            "tags": []
          },
          "execution_count": 6
        }
      ]
    },
    {
      "cell_type": "code",
      "metadata": {
        "id": "4EWcoK5yoW3E",
        "outputId": "74162e99-9268-49dd-8352-0e14d46d5445",
        "colab": {
          "base_uri": "https://localhost:8080/"
        }
      },
      "source": [
        "v.dim()"
      ],
      "execution_count": 7,
      "outputs": [
        {
          "output_type": "execute_result",
          "data": {
            "text/plain": [
              "1"
            ]
          },
          "metadata": {
            "tags": []
          },
          "execution_count": 7
        }
      ]
    },
    {
      "cell_type": "code",
      "metadata": {
        "id": "IdJBeZdroW3F",
        "outputId": "8cadb3b7-0c2a-4509-abc8-21da171503aa",
        "colab": {
          "base_uri": "https://localhost:8080/"
        }
      },
      "source": [
        "v.size()"
      ],
      "execution_count": 8,
      "outputs": [
        {
          "output_type": "execute_result",
          "data": {
            "text/plain": [
              "torch.Size([3])"
            ]
          },
          "metadata": {
            "tags": []
          },
          "execution_count": 8
        }
      ]
    },
    {
      "cell_type": "markdown",
      "metadata": {
        "id": "lbLHDegnoW3F"
      },
      "source": [
        "### Vector arithmetics\n",
        "\n",
        "We can multiply vectors by a scalar: \n",
        "\n",
        "$$a \\vec{v} = \\left[a v_1, a v_2, \\ldots, a v_n \\right]$$\n",
        "\n",
        "Or, provided that two vectors have the same length, add and subtract vectors to each other:\n",
        "\n",
        "$$\\vec{v} + \\vec{u}$$"
      ]
    },
    {
      "cell_type": "code",
      "metadata": {
        "id": "3J-0FMsaoW3G",
        "outputId": "5d7522d5-a5f7-47a6-a319-f9d861e4e277",
        "colab": {
          "base_uri": "https://localhost:8080/"
        }
      },
      "source": [
        "2 * v"
      ],
      "execution_count": 9,
      "outputs": [
        {
          "output_type": "execute_result",
          "data": {
            "text/plain": [
              "tensor([ 3., -1.,  6.])"
            ]
          },
          "metadata": {
            "tags": []
          },
          "execution_count": 9
        }
      ]
    },
    {
      "cell_type": "code",
      "metadata": {
        "id": "nTigK89ToW3H"
      },
      "source": [
        "u = tensor([1., 0., 1.])"
      ],
      "execution_count": 10,
      "outputs": []
    },
    {
      "cell_type": "code",
      "metadata": {
        "id": "4ADIRybPoW3H",
        "outputId": "d445807a-6e98-4e08-a348-aa8d783b5713",
        "colab": {
          "base_uri": "https://localhost:8080/"
        }
      },
      "source": [
        "v + u"
      ],
      "execution_count": 11,
      "outputs": [
        {
          "output_type": "execute_result",
          "data": {
            "text/plain": [
              "tensor([ 2.5000, -0.5000,  4.0000])"
            ]
          },
          "metadata": {
            "tags": []
          },
          "execution_count": 11
        }
      ]
    },
    {
      "cell_type": "markdown",
      "metadata": {
        "id": "CPEhSAUPoW3I"
      },
      "source": [
        "### Vector length\n",
        "\n",
        "\n",
        "$$|\\vec{v}| = \\sqrt{v_1^2 + v_2^2 + \\ldots + v_n^2} = \\sqrt{\\sum_{i=1}^n v_i^2}$$"
      ]
    },
    {
      "cell_type": "code",
      "metadata": {
        "id": "6mARJwEjoW3I",
        "outputId": "2c6e01f4-cb61-4f68-8d34-8158af278e82",
        "colab": {
          "base_uri": "https://localhost:8080/"
        }
      },
      "source": [
        "v.pow(2).sum().sqrt()"
      ],
      "execution_count": 12,
      "outputs": [
        {
          "output_type": "execute_result",
          "data": {
            "text/plain": [
              "tensor(3.3912)"
            ]
          },
          "metadata": {
            "tags": []
          },
          "execution_count": 12
        }
      ]
    },
    {
      "cell_type": "code",
      "metadata": {
        "id": "_J8aoSNyoW3J",
        "outputId": "eec22761-4880-4222-cc81-11077be7c9ac",
        "colab": {
          "base_uri": "https://localhost:8080/"
        }
      },
      "source": [
        "v**2"
      ],
      "execution_count": 13,
      "outputs": [
        {
          "output_type": "execute_result",
          "data": {
            "text/plain": [
              "tensor([2.2500, 0.2500, 9.0000])"
            ]
          },
          "metadata": {
            "tags": []
          },
          "execution_count": 13
        }
      ]
    },
    {
      "cell_type": "code",
      "metadata": {
        "id": "AjgYJeyCoW3K",
        "outputId": "8cf02adb-66c9-4dd6-a05f-a5d354429c49",
        "colab": {
          "base_uri": "https://localhost:8080/"
        }
      },
      "source": [
        "torch.pow(v, 2)"
      ],
      "execution_count": 14,
      "outputs": [
        {
          "output_type": "execute_result",
          "data": {
            "text/plain": [
              "tensor([2.2500, 0.2500, 9.0000])"
            ]
          },
          "metadata": {
            "tags": []
          },
          "execution_count": 14
        }
      ]
    },
    {
      "cell_type": "code",
      "metadata": {
        "id": "aTCTfeNboW3K",
        "outputId": "d690e7e8-29d2-4622-ffdb-2a2f88754738",
        "colab": {
          "base_uri": "https://localhost:8080/"
        }
      },
      "source": [
        "v.pow(2).sum()"
      ],
      "execution_count": 15,
      "outputs": [
        {
          "output_type": "execute_result",
          "data": {
            "text/plain": [
              "tensor(11.5000)"
            ]
          },
          "metadata": {
            "tags": []
          },
          "execution_count": 15
        }
      ]
    },
    {
      "cell_type": "code",
      "metadata": {
        "id": "P-bDoJN7oW3L",
        "outputId": "a69d9576-6995-4617-b7d2-8ecc2b6b7424",
        "colab": {
          "base_uri": "https://localhost:8080/"
        }
      },
      "source": [
        "# or to normalize a vector\n",
        "v / v.norm()"
      ],
      "execution_count": 16,
      "outputs": [
        {
          "output_type": "execute_result",
          "data": {
            "text/plain": [
              "tensor([ 0.4423, -0.1474,  0.8847])"
            ]
          },
          "metadata": {
            "tags": []
          },
          "execution_count": 16
        }
      ]
    },
    {
      "cell_type": "markdown",
      "metadata": {
        "id": "V45isB71oW3L"
      },
      "source": [
        "## Matrix\n",
        "\n",
        "[![Matrix transform - xkcd](https://imgs.xkcd.com/comics/matrix_transform.png)](https://xkcd.com/184/)\n",
        "\n",
        "Typical operations:\n",
        "\n",
        "* rotations\n",
        "* next step in a stochastic process\n",
        "* unitary operations and projections in quantum mechanics (these use complex numbers)\n",
        "* scalar products\n",
        "* [Hessian matrix](https://en.wikipedia.org/wiki/Hessian_matrix) of a scalar (i.e. second order derivatives of a scalar with respect to a vector)\n",
        "* channel mixing (e.g. `RGB` to gray-scale and R-G)"
      ]
    },
    {
      "cell_type": "code",
      "metadata": {
        "id": "Vo2fz37doW3M",
        "outputId": "efbdca2b-9684-47e8-bf84-d8ec6e84efd1",
        "colab": {
          "base_uri": "https://localhost:8080/"
        }
      },
      "source": [
        "M = tensor([[1., 2.], [3., 4.]])\n",
        "M"
      ],
      "execution_count": 17,
      "outputs": [
        {
          "output_type": "execute_result",
          "data": {
            "text/plain": [
              "tensor([[1., 2.],\n",
              "        [3., 4.]])"
            ]
          },
          "metadata": {
            "tags": []
          },
          "execution_count": 17
        }
      ]
    },
    {
      "cell_type": "code",
      "metadata": {
        "id": "eh-b9Po5oW3M",
        "outputId": "58b04a31-3095-4c46-b7bd-b36f5cba2141",
        "colab": {
          "base_uri": "https://localhost:8080/"
        }
      },
      "source": [
        "M.matmul(M)"
      ],
      "execution_count": 18,
      "outputs": [
        {
          "output_type": "execute_result",
          "data": {
            "text/plain": [
              "tensor([[ 7., 10.],\n",
              "        [15., 22.]])"
            ]
          },
          "metadata": {
            "tags": []
          },
          "execution_count": 18
        }
      ]
    },
    {
      "cell_type": "code",
      "metadata": {
        "id": "K4HOEj6roW3N",
        "outputId": "984a034e-7c71-408e-be1b-a0f61310f937",
        "colab": {
          "base_uri": "https://localhost:8080/"
        }
      },
      "source": [
        "tensor([1., 0.]).matmul(M)"
      ],
      "execution_count": 20,
      "outputs": [
        {
          "output_type": "execute_result",
          "data": {
            "text/plain": [
              "tensor([1., 2.])"
            ]
          },
          "metadata": {
            "tags": []
          },
          "execution_count": 20
        }
      ]
    },
    {
      "cell_type": "code",
      "metadata": {
        "id": "Mbfzr1YpoW3N",
        "outputId": "d5802bd7-240c-4336-85f3-b2a66f8cae5e",
        "colab": {
          "base_uri": "https://localhost:8080/"
        }
      },
      "source": [
        "# for Python 3.5+\n",
        "M @ M"
      ],
      "execution_count": 21,
      "outputs": [
        {
          "output_type": "execute_result",
          "data": {
            "text/plain": [
              "tensor([[ 7., 10.],\n",
              "        [15., 22.]])"
            ]
          },
          "metadata": {
            "tags": []
          },
          "execution_count": 21
        }
      ]
    },
    {
      "cell_type": "code",
      "metadata": {
        "id": "rlu4FG-OoW3O",
        "outputId": "91fc1a06-fe02-467f-d7eb-4487f82d4dce",
        "colab": {
          "base_uri": "https://localhost:8080/"
        }
      },
      "source": [
        "M * M"
      ],
      "execution_count": 22,
      "outputs": [
        {
          "output_type": "execute_result",
          "data": {
            "text/plain": [
              "tensor([[ 1.,  4.],\n",
              "        [ 9., 16.]])"
            ]
          },
          "metadata": {
            "tags": []
          },
          "execution_count": 22
        }
      ]
    },
    {
      "cell_type": "code",
      "metadata": {
        "id": "oz1BfelsoW3O",
        "outputId": "f0b51359-f0b4-4d64-87bb-a6847a7b1d4d",
        "colab": {
          "base_uri": "https://localhost:8080/"
        }
      },
      "source": [
        "tensor([1., 2.]).matmul(M)"
      ],
      "execution_count": 23,
      "outputs": [
        {
          "output_type": "execute_result",
          "data": {
            "text/plain": [
              "tensor([ 7., 10.])"
            ]
          },
          "metadata": {
            "tags": []
          },
          "execution_count": 23
        }
      ]
    },
    {
      "cell_type": "code",
      "metadata": {
        "id": "kcs2733PoW3P",
        "outputId": "a87a2690-faf5-4b3f-f5a5-1fc15ca06263",
        "colab": {
          "base_uri": "https://localhost:8080/"
        }
      },
      "source": [
        "M.det()"
      ],
      "execution_count": 24,
      "outputs": [
        {
          "output_type": "execute_result",
          "data": {
            "text/plain": [
              "tensor(-2.0000)"
            ]
          },
          "metadata": {
            "tags": []
          },
          "execution_count": 24
        }
      ]
    },
    {
      "cell_type": "code",
      "metadata": {
        "id": "siGKf8AYoW3P",
        "outputId": "66268f7a-2bb4-450b-dc45-2fff26defae7",
        "colab": {
          "base_uri": "https://localhost:8080/"
        }
      },
      "source": [
        "# or we can use Singular Value Decomposition, the key step of Principal Component Analysis\n",
        "M.svd()"
      ],
      "execution_count": 25,
      "outputs": [
        {
          "output_type": "execute_result",
          "data": {
            "text/plain": [
              "torch.return_types.svd(U=tensor([[-0.4046, -0.9145],\n",
              "        [-0.9145,  0.4046]]), S=tensor([5.4650, 0.3660]), V=tensor([[-0.5760,  0.8174],\n",
              "        [-0.8174, -0.5760]]))"
            ]
          },
          "metadata": {
            "tags": []
          },
          "execution_count": 25
        }
      ]
    },
    {
      "cell_type": "markdown",
      "metadata": {
        "id": "Ytn6gq3QoW3P"
      },
      "source": [
        "[Matrix factorization visualized](https://p.migdal.pl/matrix-decomposition-viz/) by Piotr Migdał (work in progress):\n",
        "\n",
        "![](https://github.com/stared/thinking-in-tensors-writing-in-pytorch/blob/master/imgs/matrix_factorization_city_temperature.png?raw=1)"
      ]
    },
    {
      "cell_type": "markdown",
      "metadata": {
        "id": "qcjuJcPJoW3Q"
      },
      "source": [
        "## Tensor\n",
        "\n",
        "\n",
        "Tensor is a generalization of vectors and matrices for more dimensions.\n",
        "\n",
        "In physics and engineering they have more properties, as in:\n",
        "\n",
        "\n",
        "![](https://upload.wikimedia.org/wikipedia/commons/thumb/f/fe/StressEnergyTensor_contravariant.svg/250px-StressEnergyTensor_contravariant.svg.png)\n",
        "\n",
        "[Electromagnetic tensor](https://en.wikipedia.org/wiki/Electromagnetic_tensor) from [Introduction to the mathematics of general relativity - Wikipedia](https://en.wikipedia.org/wiki/Introduction_to_the_mathematics_of_general_relativity), see also: [Tensor](https://en.wikipedia.org/wiki/Tensor).\n",
        "\n",
        "In deep learning, there are any arrays.\n"
      ]
    },
    {
      "cell_type": "markdown",
      "metadata": {
        "id": "FEcvLAF5oW3R"
      },
      "source": [
        "# Further reading\n",
        "\n",
        "\n",
        "For an introduction to linear algebra, I recommend [immersive linear algebra](http://immersivemath.com/ila/index.html) by by J. Ström, K. Åström, and T. Akenine-Möller (from my [Interactive Machine Learning, Deep Learning and Statistics websites\n",
        "](http://p.migdal.pl/interactive-machine-learning-list/) collection).\n",
        "\n",
        "I made some points about [tensor diagrams here](https://medium.com/@pmigdal/in-the-topic-of-diagrams-i-did-write-a-review-simple-diagrams-of-convoluted-neural-networks-6418a63f9281). In particular, I recommend\n",
        "\n",
        "* [Einsum is All you Need - Einstein Summation in Deep Learning](https://rockt.github.io/2018/04/30/einsum) by Tim Rocktäschel.\n",
        "* [Matrices as Tensor Network Diagrams](https://www.math3ma.com/blog/matrices-as-tensor-network-diagrams) by [Tai-Danae Bradley](https://twitter.com/math3ma):\n",
        "\n",
        "![Scalar, vector, matrix, tensor - a drawing by Tai-Danae Bradley](https://uploads-ssl.webflow.com/5b1d427ae0c922e912eda447/5cd99a73f8ce4494ad86852e_arraychart.jpg)\n",
        "\n",
        "Beware, that PyTorch can be tricky with the tensor dimension order:\n",
        "\n",
        "* [Inconsistent dimension ordering for 1D networks - NCL vs NLC vs LNC]()\n",
        "\n",
        "For a critique of \n",
        "\n",
        "* [Named tensors](http://nlp.seas.harvard.edu/NamedTensor) and [Named tensors (part 2)](http://nlp.seas.harvard.edu/NamedTensor2) by Alexander Rush - a proposal of type-checking tensor dimensions\n",
        "\n",
        "> Is it only me, or does \"Theano tensor dimension order\" sound like some secret convent? - [Piotr Migdał's tweet](https://twitter.com/pmigdal/status/961344490500952070)\n"
      ]
    },
    {
      "cell_type": "code",
      "metadata": {
        "id": "PAnqFcqeoW3S"
      },
      "source": [
        ""
      ],
      "execution_count": null,
      "outputs": []
    }
  ]
}