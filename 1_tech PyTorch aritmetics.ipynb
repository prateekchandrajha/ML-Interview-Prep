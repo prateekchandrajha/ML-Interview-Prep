{
  "nbformat": 4,
  "nbformat_minor": 0,
  "metadata": {
    "kernelspec": {
      "display_name": "Python [default]",
      "language": "python",
      "name": "python3"
    },
    "language_info": {
      "codemirror_mode": {
        "name": "ipython",
        "version": 3
      },
      "file_extension": ".py",
      "mimetype": "text/x-python",
      "name": "python",
      "nbconvert_exporter": "python",
      "pygments_lexer": "ipython3",
      "version": "3.5.4"
    },
    "varInspector": {
      "cols": {
        "lenName": 16,
        "lenType": 16,
        "lenVar": 40
      },
      "kernels_config": {
        "python": {
          "delete_cmd_postfix": "",
          "delete_cmd_prefix": "del ",
          "library": "var_list.py",
          "varRefreshCmd": "print(var_dic_list())"
        },
        "r": {
          "delete_cmd_postfix": ") ",
          "delete_cmd_prefix": "rm(",
          "library": "var_list.r",
          "varRefreshCmd": "cat(var_dic_list()) "
        }
      },
      "types_to_exclude": [
        "module",
        "function",
        "builtin_function_or_method",
        "instance",
        "_Feature"
      ],
      "window_display": false
    },
    "colab": {
      "name": "1_tech PyTorch aritmetics.ipynb",
      "provenance": []
    },
    "accelerator": "GPU"
  },
  "cells": [
    {
      "cell_type": "markdown",
      "metadata": {
        "id": "fREEPmaaylYI"
      },
      "source": [
        "# Thinking in tensors in PyTorch\n",
        "\n",
        "Hands-on training  by [Piotr Migdał](https://p.migdal.pl) (2019). Version 0.3 for Uniwersytet Śląski.\n",
        "\n",
        "\n",
        "## Notebook 1 (technical): PyTorch arithmetics\n",
        "\n",
        "<a href=\"https://colab.research.google.com/github/stared/thinking-in-tensors-writing-in-pytorch/blob/master/1_tech%20PyTorch%20aritmetics.ipynb\" target=\"_parent\">\n",
        "    <img src=\"https://colab.research.google.com/assets/colab-badge.svg\"/>\n",
        "</a>\n",
        "\n",
        "\n",
        "In this chapter, we show the basics of PyTorch API for adding, multiplying and reshapping tensors.\n",
        "\n",
        "See [Keras or PyTorch as your first deep learning framework](https://deepsense.ai/keras-or-pytorch/) for my (over)view in the Keras vs PyTorch struggle.\n",
        "\n",
        "For numerics in Python, see:\n",
        "\n",
        "* [Nicolas P. Rougier's From Python to Numpy](http://www.labri.fr/perso/nrougier/from-python-to-numpy/)\n",
        "* [SciPy Lecture Notes](http://www.scipy-lectures.org/)\n",
        "\n",
        "As a general hint, you need to avoid Python loops, unless they are strictly necessary. "
      ]
    },
    {
      "cell_type": "code",
      "metadata": {
        "id": "wrIvqR-DylYd"
      },
      "source": [
        "import torch\n",
        "from torch import nn"
      ],
      "execution_count": 1,
      "outputs": []
    },
    {
      "cell_type": "code",
      "metadata": {
        "id": "-h84isGFylYf",
        "outputId": "394be851-e871-4d18-af0e-d3507c96c8e9",
        "colab": {
          "base_uri": "https://localhost:8080/"
        }
      },
      "source": [
        "# most likely will be False if run on a generic laptop\n",
        "torch.cuda.is_available()"
      ],
      "execution_count": 2,
      "outputs": [
        {
          "output_type": "execute_result",
          "data": {
            "text/plain": [
              "True"
            ]
          },
          "metadata": {
            "tags": []
          },
          "execution_count": 2
        }
      ]
    },
    {
      "cell_type": "code",
      "metadata": {
        "id": "hf6CLHozylYg",
        "outputId": "ed28ab9a-edfa-4b4c-9aa9-1fe0c8ff9ae6",
        "colab": {
          "base_uri": "https://localhost:8080/",
          "height": 35
        }
      },
      "source": [
        "# we work on 1.3.1\n",
        "torch.__version__"
      ],
      "execution_count": 3,
      "outputs": [
        {
          "output_type": "execute_result",
          "data": {
            "application/vnd.google.colaboratory.intrinsic+json": {
              "type": "string"
            },
            "text/plain": [
              "'1.8.1+cu101'"
            ]
          },
          "metadata": {
            "tags": []
          },
          "execution_count": 3
        }
      ]
    },
    {
      "cell_type": "markdown",
      "metadata": {
        "id": "YBbvj_f5ylYg"
      },
      "source": [
        "## Arithmetics\n",
        "PyTorch arithmetics works like `numpy` operations.\n",
        "\n",
        "Vide: [What is PyTorch?](https://pytorch.org/tutorials/beginner/blitz/tensor_tutorial.html#sphx-glr-beginner-blitz-tensor-tutorial-py)"
      ]
    },
    {
      "cell_type": "code",
      "metadata": {
        "id": "ceOrdF7zylYh"
      },
      "source": [
        "a = torch.tensor([[0.5, -2., 1., 3., 0., 0.9], [-1., 0., 10., -5., 4., 4.2]])\n",
        "b = torch.randn(2, 6)"
      ],
      "execution_count": 4,
      "outputs": []
    },
    {
      "cell_type": "code",
      "metadata": {
        "id": "5X37DaDzylYi",
        "outputId": "82971066-170b-44f6-a791-713a4b3b6820",
        "colab": {
          "base_uri": "https://localhost:8080/"
        }
      },
      "source": [
        "b"
      ],
      "execution_count": 5,
      "outputs": [
        {
          "output_type": "execute_result",
          "data": {
            "text/plain": [
              "tensor([[-0.4888,  1.4370,  1.3974,  0.2230,  0.3569,  1.5773],\n",
              "        [ 1.3555, -1.0024,  0.1264, -0.4826,  1.6111,  0.1796]])"
            ]
          },
          "metadata": {
            "tags": []
          },
          "execution_count": 5
        }
      ]
    },
    {
      "cell_type": "code",
      "metadata": {
        "id": "lHU4_vbsylYi",
        "outputId": "cc37be5c-530d-4cc5-a4d5-135bdc51fd3f",
        "colab": {
          "base_uri": "https://localhost:8080/"
        }
      },
      "source": [
        "a + b"
      ],
      "execution_count": 6,
      "outputs": [
        {
          "output_type": "execute_result",
          "data": {
            "text/plain": [
              "tensor([[ 0.0112, -0.5630,  2.3974,  3.2230,  0.3569,  2.4773],\n",
              "        [ 0.3555, -1.0024, 10.1264, -5.4826,  5.6111,  4.3796]])"
            ]
          },
          "metadata": {
            "tags": []
          },
          "execution_count": 6
        }
      ]
    },
    {
      "cell_type": "code",
      "metadata": {
        "id": "LpoVqluKylYj",
        "outputId": "9d870f0d-39b6-4979-ae9a-ff4d168f5cf6",
        "colab": {
          "base_uri": "https://localhost:8080/"
        }
      },
      "source": [
        "2 * a "
      ],
      "execution_count": 7,
      "outputs": [
        {
          "output_type": "execute_result",
          "data": {
            "text/plain": [
              "tensor([[  1.0000,  -4.0000,   2.0000,   6.0000,   0.0000,   1.8000],\n",
              "        [ -2.0000,   0.0000,  20.0000, -10.0000,   8.0000,   8.4000]])"
            ]
          },
          "metadata": {
            "tags": []
          },
          "execution_count": 7
        }
      ]
    },
    {
      "cell_type": "code",
      "metadata": {
        "id": "VpY47e_ZylYj",
        "outputId": "1cd46baf-6c11-4200-8f6a-cb10bb388c99",
        "colab": {
          "base_uri": "https://localhost:8080/"
        }
      },
      "source": [
        "# matrix transposition\n",
        "b.t()"
      ],
      "execution_count": 8,
      "outputs": [
        {
          "output_type": "execute_result",
          "data": {
            "text/plain": [
              "tensor([[-0.4888,  1.3555],\n",
              "        [ 1.4370, -1.0024],\n",
              "        [ 1.3974,  0.1264],\n",
              "        [ 0.2230, -0.4826],\n",
              "        [ 0.3569,  1.6111],\n",
              "        [ 1.5773,  0.1796]])"
            ]
          },
          "metadata": {
            "tags": []
          },
          "execution_count": 8
        }
      ]
    },
    {
      "cell_type": "code",
      "metadata": {
        "id": "e_lbE2IAylYk",
        "outputId": "77bdf0c0-dbc2-42f9-ebc0-fd60a0e901ae",
        "colab": {
          "base_uri": "https://localhost:8080/"
        }
      },
      "source": [
        "# matrix multiplication\n",
        "a.mm(b.t())"
      ],
      "execution_count": 9,
      "outputs": [
        {
          "output_type": "execute_result",
          "data": {
            "text/plain": [
              "tensor([[ 0.3677,  1.5228],\n",
              "        [21.4006,  9.5198]])"
            ]
          },
          "metadata": {
            "tags": []
          },
          "execution_count": 9
        }
      ]
    },
    {
      "cell_type": "code",
      "metadata": {
        "id": "mYy810QtylYk",
        "outputId": "11fd9e29-e86e-4b0f-9fde-58e11b6caed4",
        "colab": {
          "base_uri": "https://localhost:8080/",
          "height": 162
        }
      },
      "source": [
        "a.mm(b)"
      ],
      "execution_count": 10,
      "outputs": [
        {
          "output_type": "error",
          "ename": "RuntimeError",
          "evalue": "ignored",
          "traceback": [
            "\u001b[0;31m---------------------------------------------------------------------------\u001b[0m",
            "\u001b[0;31mRuntimeError\u001b[0m                              Traceback (most recent call last)",
            "\u001b[0;32m<ipython-input-10-017c9bfe91b4>\u001b[0m in \u001b[0;36m<module>\u001b[0;34m()\u001b[0m\n\u001b[0;32m----> 1\u001b[0;31m \u001b[0ma\u001b[0m\u001b[0;34m.\u001b[0m\u001b[0mmm\u001b[0m\u001b[0;34m(\u001b[0m\u001b[0mb\u001b[0m\u001b[0;34m)\u001b[0m\u001b[0;34m\u001b[0m\u001b[0;34m\u001b[0m\u001b[0m\n\u001b[0m",
            "\u001b[0;31mRuntimeError\u001b[0m: mat1 and mat2 shapes cannot be multiplied (2x6 and 2x6)"
          ]
        }
      ]
    },
    {
      "cell_type": "markdown",
      "metadata": {
        "id": "PFvlb_ZRylYl"
      },
      "source": [
        "Note that error messaes are very descriptive."
      ]
    },
    {
      "cell_type": "code",
      "metadata": {
        "id": "wbjRLMFCylYl",
        "outputId": "78749749-80d2-475d-b3ea-97ebfec2dd77",
        "colab": {
          "base_uri": "https://localhost:8080/"
        }
      },
      "source": [
        "# equivalent to +\n",
        "a.add(b)"
      ],
      "execution_count": 11,
      "outputs": [
        {
          "output_type": "execute_result",
          "data": {
            "text/plain": [
              "tensor([[ 0.0112, -0.5630,  2.3974,  3.2230,  0.3569,  2.4773],\n",
              "        [ 0.3555, -1.0024, 10.1264, -5.4826,  5.6111,  4.3796]])"
            ]
          },
          "metadata": {
            "tags": []
          },
          "execution_count": 11
        }
      ]
    },
    {
      "cell_type": "code",
      "metadata": {
        "id": "_bL5xvCXylYl",
        "outputId": "add1afcd-424c-46be-fab1-93a39b4cd69e",
        "colab": {
          "base_uri": "https://localhost:8080/"
        }
      },
      "source": [
        "a"
      ],
      "execution_count": 12,
      "outputs": [
        {
          "output_type": "execute_result",
          "data": {
            "text/plain": [
              "tensor([[ 0.5000, -2.0000,  1.0000,  3.0000,  0.0000,  0.9000],\n",
              "        [-1.0000,  0.0000, 10.0000, -5.0000,  4.0000,  4.2000]])"
            ]
          },
          "metadata": {
            "tags": []
          },
          "execution_count": 12
        }
      ]
    },
    {
      "cell_type": "code",
      "metadata": {
        "id": "nN1xKGDJylYm",
        "outputId": "427d73e5-3da2-41e9-c6eb-ca57382fe0f5",
        "colab": {
          "base_uri": "https://localhost:8080/"
        }
      },
      "source": [
        "# inplace operations\n",
        "a.add_(b)"
      ],
      "execution_count": 13,
      "outputs": [
        {
          "output_type": "execute_result",
          "data": {
            "text/plain": [
              "tensor([[ 0.0112, -0.5630,  2.3974,  3.2230,  0.3569,  2.4773],\n",
              "        [ 0.3555, -1.0024, 10.1264, -5.4826,  5.6111,  4.3796]])"
            ]
          },
          "metadata": {
            "tags": []
          },
          "execution_count": 13
        }
      ]
    },
    {
      "cell_type": "code",
      "metadata": {
        "id": "pB0UIXKSylYm",
        "outputId": "2d842c09-db5b-4638-c32a-ddf8dd12ae4e",
        "colab": {
          "base_uri": "https://localhost:8080/"
        }
      },
      "source": [
        "a"
      ],
      "execution_count": 14,
      "outputs": [
        {
          "output_type": "execute_result",
          "data": {
            "text/plain": [
              "tensor([[ 0.0112, -0.5630,  2.3974,  3.2230,  0.3569,  2.4773],\n",
              "        [ 0.3555, -1.0024, 10.1264, -5.4826,  5.6111,  4.3796]])"
            ]
          },
          "metadata": {
            "tags": []
          },
          "execution_count": 14
        }
      ]
    },
    {
      "cell_type": "code",
      "metadata": {
        "id": "ilCXnC5YylYm",
        "outputId": "c1711113-a5a4-4b87-e5a1-482a74e9be56",
        "colab": {
          "base_uri": "https://localhost:8080/"
        }
      },
      "source": [
        "torch.pow(a, 2)"
      ],
      "execution_count": 15,
      "outputs": [
        {
          "output_type": "execute_result",
          "data": {
            "text/plain": [
              "tensor([[1.2527e-04, 3.1694e-01, 5.7478e+00, 1.0388e+01, 1.2739e-01, 6.1372e+00],\n",
              "        [1.2637e-01, 1.0048e+00, 1.0254e+02, 3.0059e+01, 3.1485e+01, 1.9181e+01]])"
            ]
          },
          "metadata": {
            "tags": []
          },
          "execution_count": 15
        }
      ]
    },
    {
      "cell_type": "code",
      "metadata": {
        "id": "fGQGMxPBylYn",
        "outputId": "b41e5fd0-2e57-47ce-d49f-3cc8afc025e4",
        "colab": {
          "base_uri": "https://localhost:8080/"
        }
      },
      "source": [
        "a.pow(2)"
      ],
      "execution_count": 16,
      "outputs": [
        {
          "output_type": "execute_result",
          "data": {
            "text/plain": [
              "tensor([[1.2527e-04, 3.1694e-01, 5.7478e+00, 1.0388e+01, 1.2739e-01, 6.1372e+00],\n",
              "        [1.2637e-01, 1.0048e+00, 1.0254e+02, 3.0059e+01, 3.1485e+01, 1.9181e+01]])"
            ]
          },
          "metadata": {
            "tags": []
          },
          "execution_count": 16
        }
      ]
    },
    {
      "cell_type": "code",
      "metadata": {
        "id": "TuwmIXWyylYn",
        "outputId": "c94c2a43-9888-47bd-c4e8-1223bb1ac567",
        "colab": {
          "base_uri": "https://localhost:8080/"
        }
      },
      "source": [
        "a.sum(dim=1)"
      ],
      "execution_count": 17,
      "outputs": [
        {
          "output_type": "execute_result",
          "data": {
            "text/plain": [
              "tensor([ 7.9030, 13.9876])"
            ]
          },
          "metadata": {
            "tags": []
          },
          "execution_count": 17
        }
      ]
    },
    {
      "cell_type": "code",
      "metadata": {
        "id": "TNA96ZrvylYn",
        "outputId": "49414117-7e90-48b0-ec9e-11b1adb3ae26",
        "colab": {
          "base_uri": "https://localhost:8080/"
        }
      },
      "source": [
        "# methods with underscores **change** the object\n",
        "a.zero_()"
      ],
      "execution_count": 18,
      "outputs": [
        {
          "output_type": "execute_result",
          "data": {
            "text/plain": [
              "tensor([[0., 0., 0., 0., 0., 0.],\n",
              "        [0., 0., 0., 0., 0., 0.]])"
            ]
          },
          "metadata": {
            "tags": []
          },
          "execution_count": 18
        }
      ]
    },
    {
      "cell_type": "code",
      "metadata": {
        "id": "_r-wuT_EylYn",
        "outputId": "33648f64-3ae5-4005-a901-511058f85c32",
        "colab": {
          "base_uri": "https://localhost:8080/"
        }
      },
      "source": [
        "a"
      ],
      "execution_count": 19,
      "outputs": [
        {
          "output_type": "execute_result",
          "data": {
            "text/plain": [
              "tensor([[0., 0., 0., 0., 0., 0.],\n",
              "        [0., 0., 0., 0., 0., 0.]])"
            ]
          },
          "metadata": {
            "tags": []
          },
          "execution_count": 19
        }
      ]
    },
    {
      "cell_type": "markdown",
      "metadata": {
        "id": "KKIgbtNMylYo"
      },
      "source": [
        "## Reshaping"
      ]
    },
    {
      "cell_type": "code",
      "metadata": {
        "id": "-l2PGoS6ylYo",
        "outputId": "da8d807f-9ae0-4559-a421-44afafa8e108",
        "colab": {
          "base_uri": "https://localhost:8080/"
        }
      },
      "source": [
        "b.size()"
      ],
      "execution_count": 20,
      "outputs": [
        {
          "output_type": "execute_result",
          "data": {
            "text/plain": [
              "torch.Size([2, 6])"
            ]
          },
          "metadata": {
            "tags": []
          },
          "execution_count": 20
        }
      ]
    },
    {
      "cell_type": "code",
      "metadata": {
        "id": "b3rMCBkbylYo",
        "outputId": "ed22e852-25e3-4682-d465-06d8dab59ca5",
        "colab": {
          "base_uri": "https://localhost:8080/"
        }
      },
      "source": [
        "# same as b.size()\n",
        "b.shape"
      ],
      "execution_count": 21,
      "outputs": [
        {
          "output_type": "execute_result",
          "data": {
            "text/plain": [
              "torch.Size([2, 6])"
            ]
          },
          "metadata": {
            "tags": []
          },
          "execution_count": 21
        }
      ]
    },
    {
      "cell_type": "code",
      "metadata": {
        "id": "IP1QykOT7O6D",
        "outputId": "3d79a4b4-60f6-4f0b-af99-dc9d28f675b2",
        "colab": {
          "base_uri": "https://localhost:8080/"
        }
      },
      "source": [
        "b"
      ],
      "execution_count": 23,
      "outputs": [
        {
          "output_type": "execute_result",
          "data": {
            "text/plain": [
              "tensor([[-0.4888,  1.4370,  1.3974,  0.2230,  0.3569,  1.5773],\n",
              "        [ 1.3555, -1.0024,  0.1264, -0.4826,  1.6111,  0.1796]])"
            ]
          },
          "metadata": {
            "tags": []
          },
          "execution_count": 23
        }
      ]
    },
    {
      "cell_type": "code",
      "metadata": {
        "id": "Hvwj6lQTylYp",
        "outputId": "3aad4b2f-3fc1-4727-9e5f-9dbf7ac80610",
        "colab": {
          "base_uri": "https://localhost:8080/"
        }
      },
      "source": [
        "# to rearrange array elements we use view\n",
        "b.view(2, 3, -1)"
      ],
      "execution_count": 22,
      "outputs": [
        {
          "output_type": "execute_result",
          "data": {
            "text/plain": [
              "tensor([[[-0.4888,  1.4370],\n",
              "         [ 1.3974,  0.2230],\n",
              "         [ 0.3569,  1.5773]],\n",
              "\n",
              "        [[ 1.3555, -1.0024],\n",
              "         [ 0.1264, -0.4826],\n",
              "         [ 1.6111,  0.1796]]])"
            ]
          },
          "metadata": {
            "tags": []
          },
          "execution_count": 22
        }
      ]
    },
    {
      "cell_type": "code",
      "metadata": {
        "id": "urhkk6sXylYp"
      },
      "source": [
        "# flattening an array into 1-d array\n",
        "b.view(-1)"
      ],
      "execution_count": null,
      "outputs": []
    },
    {
      "cell_type": "code",
      "metadata": {
        "id": "DBVAntDfylYp",
        "outputId": "99583df0-d2b9-46e1-8f6c-3000edff3a1d",
        "colab": {
          "base_uri": "https://localhost:8080/"
        }
      },
      "source": [
        "b.view(b.size(0), -1)"
      ],
      "execution_count": 24,
      "outputs": [
        {
          "output_type": "execute_result",
          "data": {
            "text/plain": [
              "tensor([[-0.4888,  1.4370,  1.3974,  0.2230,  0.3569,  1.5773],\n",
              "        [ 1.3555, -1.0024,  0.1264, -0.4826,  1.6111,  0.1796]])"
            ]
          },
          "metadata": {
            "tags": []
          },
          "execution_count": 24
        }
      ]
    },
    {
      "cell_type": "code",
      "metadata": {
        "id": "0biMw3MhylYp",
        "outputId": "d2403079-b8d5-4f2b-c7bc-3184c52ee3f9",
        "colab": {
          "base_uri": "https://localhost:8080/"
        }
      },
      "source": [
        "b"
      ],
      "execution_count": 25,
      "outputs": [
        {
          "output_type": "execute_result",
          "data": {
            "text/plain": [
              "tensor([[-0.4888,  1.4370,  1.3974,  0.2230,  0.3569,  1.5773],\n",
              "        [ 1.3555, -1.0024,  0.1264, -0.4826,  1.6111,  0.1796]])"
            ]
          },
          "metadata": {
            "tags": []
          },
          "execution_count": 25
        }
      ]
    },
    {
      "cell_type": "code",
      "metadata": {
        "id": "ljlBNARLylYq",
        "outputId": "ffdcb589-e988-46f9-f1ff-678a7a9776a1",
        "colab": {
          "base_uri": "https://localhost:8080/"
        }
      },
      "source": [
        "c = torch.arange(0, 15)\n",
        "c"
      ],
      "execution_count": 26,
      "outputs": [
        {
          "output_type": "execute_result",
          "data": {
            "text/plain": [
              "tensor([ 0,  1,  2,  3,  4,  5,  6,  7,  8,  9, 10, 11, 12, 13, 14])"
            ]
          },
          "metadata": {
            "tags": []
          },
          "execution_count": 26
        }
      ]
    },
    {
      "cell_type": "code",
      "metadata": {
        "id": "98hvP4xuylYq",
        "outputId": "de73dde3-74ff-4518-8a14-b02de539a585",
        "colab": {
          "base_uri": "https://localhost:8080/"
        }
      },
      "source": [
        "# size\n",
        "c.size()"
      ],
      "execution_count": 27,
      "outputs": [
        {
          "output_type": "execute_result",
          "data": {
            "text/plain": [
              "torch.Size([15])"
            ]
          },
          "metadata": {
            "tags": []
          },
          "execution_count": 27
        }
      ]
    },
    {
      "cell_type": "code",
      "metadata": {
        "id": "2oBeSxPUylYq",
        "outputId": "75eec4d0-fa8e-4fed-8a63-3a0297da3e67",
        "colab": {
          "base_uri": "https://localhost:8080/"
        }
      },
      "source": [
        "# steps\n",
        "c.stride()"
      ],
      "execution_count": 28,
      "outputs": [
        {
          "output_type": "execute_result",
          "data": {
            "text/plain": [
              "(1,)"
            ]
          },
          "metadata": {
            "tags": []
          },
          "execution_count": 28
        }
      ]
    },
    {
      "cell_type": "code",
      "metadata": {
        "id": "vjdnZ1u0ylYq",
        "outputId": "25175ffa-91fc-4aba-9aab-b4e65b8cd696",
        "colab": {
          "base_uri": "https://localhost:8080/"
        }
      },
      "source": [
        "c2 = c.view(3, 5)\n",
        "c2"
      ],
      "execution_count": 29,
      "outputs": [
        {
          "output_type": "execute_result",
          "data": {
            "text/plain": [
              "tensor([[ 0,  1,  2,  3,  4],\n",
              "        [ 5,  6,  7,  8,  9],\n",
              "        [10, 11, 12, 13, 14]])"
            ]
          },
          "metadata": {
            "tags": []
          },
          "execution_count": 29
        }
      ]
    },
    {
      "cell_type": "code",
      "metadata": {
        "id": "Yko5R1EuylYr",
        "outputId": "df5a9c32-b250-45e7-81d4-aa59de74f34e",
        "colab": {
          "base_uri": "https://localhost:8080/"
        }
      },
      "source": [
        "c2.size()"
      ],
      "execution_count": 30,
      "outputs": [
        {
          "output_type": "execute_result",
          "data": {
            "text/plain": [
              "torch.Size([3, 5])"
            ]
          },
          "metadata": {
            "tags": []
          },
          "execution_count": 30
        }
      ]
    },
    {
      "cell_type": "code",
      "metadata": {
        "id": "gz8VZXQeylYr",
        "outputId": "bc2dee59-e7a1-4cfd-fe11-36106166fab9",
        "colab": {
          "base_uri": "https://localhost:8080/"
        }
      },
      "source": [
        "c2.stride()"
      ],
      "execution_count": 31,
      "outputs": [
        {
          "output_type": "execute_result",
          "data": {
            "text/plain": [
              "(5, 1)"
            ]
          },
          "metadata": {
            "tags": []
          },
          "execution_count": 31
        }
      ]
    },
    {
      "cell_type": "markdown",
      "metadata": {
        "id": "MdCNzeTMylYr"
      },
      "source": [
        "What are strides?\n",
        "\n",
        "* [How to understand numpy strides for layman?](https://stackoverflow.com/questions/53097952/how-to-understand-numpy-strides-for-layman)\n",
        "* [Memory Buffer and Strides - Numpy Overview from Principles of Performance](https://llllllllll.github.io/principles-of-performance/numpy-overview.html)\n",
        "* https://fgnt.github.io/python_crashkurs_doc/include/numpy.html"
      ]
    },
    {
      "cell_type": "markdown",
      "metadata": {
        "id": "SVFL44zTylYr"
      },
      "source": [
        "## Variable broadcasting"
      ]
    },
    {
      "cell_type": "code",
      "metadata": {
        "id": "3NHkIzSqylYs"
      },
      "source": [
        "b2 = torch.tensor([-100., 100.])"
      ],
      "execution_count": 32,
      "outputs": []
    },
    {
      "cell_type": "code",
      "metadata": {
        "id": "IYNG-JahylYs",
        "outputId": "b0aa41f4-b874-43c7-fc7a-357779a14d74",
        "colab": {
          "base_uri": "https://localhost:8080/",
          "height": 195
        }
      },
      "source": [
        "# error!\n",
        "# to add tensors they need to have the same shape\n",
        "b + b2"
      ],
      "execution_count": 33,
      "outputs": [
        {
          "output_type": "error",
          "ename": "RuntimeError",
          "evalue": "ignored",
          "traceback": [
            "\u001b[0;31m---------------------------------------------------------------------------\u001b[0m",
            "\u001b[0;31mRuntimeError\u001b[0m                              Traceback (most recent call last)",
            "\u001b[0;32m<ipython-input-33-3aa5c8f3efe3>\u001b[0m in \u001b[0;36m<module>\u001b[0;34m()\u001b[0m\n\u001b[1;32m      1\u001b[0m \u001b[0;31m# error!\u001b[0m\u001b[0;34m\u001b[0m\u001b[0;34m\u001b[0m\u001b[0;34m\u001b[0m\u001b[0m\n\u001b[1;32m      2\u001b[0m \u001b[0;31m# to add tensors they need to have the same shape\u001b[0m\u001b[0;34m\u001b[0m\u001b[0;34m\u001b[0m\u001b[0;34m\u001b[0m\u001b[0m\n\u001b[0;32m----> 3\u001b[0;31m \u001b[0mb\u001b[0m \u001b[0;34m+\u001b[0m \u001b[0mb2\u001b[0m\u001b[0;34m\u001b[0m\u001b[0;34m\u001b[0m\u001b[0m\n\u001b[0m",
            "\u001b[0;31mRuntimeError\u001b[0m: The size of tensor a (6) must match the size of tensor b (2) at non-singleton dimension 1"
          ]
        }
      ]
    },
    {
      "cell_type": "code",
      "metadata": {
        "id": "ZPU8Vq6LylYs",
        "outputId": "55a14ea3-9181-4329-85b0-1e708edd9155",
        "colab": {
          "base_uri": "https://localhost:8080/"
        }
      },
      "source": [
        "b2.size()"
      ],
      "execution_count": 34,
      "outputs": [
        {
          "output_type": "execute_result",
          "data": {
            "text/plain": [
              "torch.Size([2])"
            ]
          },
          "metadata": {
            "tags": []
          },
          "execution_count": 34
        }
      ]
    },
    {
      "cell_type": "code",
      "metadata": {
        "id": "KyclMP0ZylYs",
        "outputId": "3d87612f-6071-433f-a674-5ea5256a2b40",
        "colab": {
          "base_uri": "https://localhost:8080/"
        }
      },
      "source": [
        "b2.view(2, 1)"
      ],
      "execution_count": 35,
      "outputs": [
        {
          "output_type": "execute_result",
          "data": {
            "text/plain": [
              "tensor([[-100.],\n",
              "        [ 100.]])"
            ]
          },
          "metadata": {
            "tags": []
          },
          "execution_count": 35
        }
      ]
    },
    {
      "cell_type": "code",
      "metadata": {
        "id": "xo0kCMRtylYt",
        "outputId": "88c4dd04-f853-415f-9be7-6b440c24ed44",
        "colab": {
          "base_uri": "https://localhost:8080/"
        }
      },
      "source": [
        "b2.unsqueeze(1)"
      ],
      "execution_count": 36,
      "outputs": [
        {
          "output_type": "execute_result",
          "data": {
            "text/plain": [
              "tensor([[-100.],\n",
              "        [ 100.]])"
            ]
          },
          "metadata": {
            "tags": []
          },
          "execution_count": 36
        }
      ]
    },
    {
      "cell_type": "code",
      "metadata": {
        "id": "tCx1_RhbylYt",
        "outputId": "43281651-af33-4de3-dc00-7856a6e8b7fd",
        "colab": {
          "base_uri": "https://localhost:8080/"
        }
      },
      "source": [
        "b2.unsqueeze(1).expand_as(b)"
      ],
      "execution_count": 37,
      "outputs": [
        {
          "output_type": "execute_result",
          "data": {
            "text/plain": [
              "tensor([[-100., -100., -100., -100., -100., -100.],\n",
              "        [ 100.,  100.,  100.,  100.,  100.,  100.]])"
            ]
          },
          "metadata": {
            "tags": []
          },
          "execution_count": 37
        }
      ]
    },
    {
      "cell_type": "code",
      "metadata": {
        "id": "xd5SCQQZylYt",
        "outputId": "3262fe5c-660c-4731-e1f3-0301f960296d",
        "colab": {
          "base_uri": "https://localhost:8080/"
        }
      },
      "source": [
        "b + b2.unsqueeze(1)"
      ],
      "execution_count": 38,
      "outputs": [
        {
          "output_type": "execute_result",
          "data": {
            "text/plain": [
              "tensor([[-100.4888,  -98.5630,  -98.6026,  -99.7770,  -99.6431,  -98.4227],\n",
              "        [ 101.3555,   98.9976,  100.1264,   99.5174,  101.6111,  100.1796]])"
            ]
          },
          "metadata": {
            "tags": []
          },
          "execution_count": 38
        }
      ]
    },
    {
      "cell_type": "code",
      "metadata": {
        "id": "pyK_GZG3ylYt",
        "outputId": "189d2d81-a986-4ee2-c601-36d4a436d191",
        "colab": {
          "base_uri": "https://localhost:8080/"
        }
      },
      "source": [
        "b - torch.tensor([b.mean()])"
      ],
      "execution_count": 39,
      "outputs": [
        {
          "output_type": "execute_result",
          "data": {
            "text/plain": [
              "tensor([[-1.0130,  0.9128,  0.8732, -0.3012, -0.1673,  1.0531],\n",
              "        [ 0.8313, -1.5266, -0.3978, -1.0068,  1.0869, -0.3446]])"
            ]
          },
          "metadata": {
            "tags": []
          },
          "execution_count": 39
        }
      ]
    },
    {
      "cell_type": "code",
      "metadata": {
        "id": "ZBw1ewabylYt"
      },
      "source": [
        "v = torch.tensor([1., 2., 3.])\n",
        "\n",
        "v1 = v.unsqueeze(0)\n",
        "v2 = v.unsqueeze(1)"
      ],
      "execution_count": 40,
      "outputs": []
    },
    {
      "cell_type": "code",
      "metadata": {
        "id": "1xof7nNZylYu",
        "outputId": "702802ae-a6ee-471b-fe1a-51771b99d4cb",
        "colab": {
          "base_uri": "https://localhost:8080/"
        }
      },
      "source": [
        "v1"
      ],
      "execution_count": 41,
      "outputs": [
        {
          "output_type": "execute_result",
          "data": {
            "text/plain": [
              "tensor([[1., 2., 3.]])"
            ]
          },
          "metadata": {
            "tags": []
          },
          "execution_count": 41
        }
      ]
    },
    {
      "cell_type": "code",
      "metadata": {
        "id": "_qBZEh-xylYu",
        "outputId": "f4c2e291-e296-43ed-c086-6ed7a34f7e30",
        "colab": {
          "base_uri": "https://localhost:8080/"
        }
      },
      "source": [
        "v2"
      ],
      "execution_count": 42,
      "outputs": [
        {
          "output_type": "execute_result",
          "data": {
            "text/plain": [
              "tensor([[1.],\n",
              "        [2.],\n",
              "        [3.]])"
            ]
          },
          "metadata": {
            "tags": []
          },
          "execution_count": 42
        }
      ]
    },
    {
      "cell_type": "code",
      "metadata": {
        "id": "_RrirA0CylYu",
        "outputId": "0c9ef772-e6ea-4744-ebea-b993e3a53ddb",
        "colab": {
          "base_uri": "https://localhost:8080/"
        }
      },
      "source": [
        "(v1 - v2).pow(2).sum()"
      ],
      "execution_count": 43,
      "outputs": [
        {
          "output_type": "execute_result",
          "data": {
            "text/plain": [
              "tensor(12.)"
            ]
          },
          "metadata": {
            "tags": []
          },
          "execution_count": 43
        }
      ]
    },
    {
      "cell_type": "code",
      "metadata": {
        "id": "HZmjAP4VylYu",
        "outputId": "3bcd50d8-0ad8-4438-922a-8c2b5c7c51fa",
        "colab": {
          "base_uri": "https://localhost:8080/"
        }
      },
      "source": [
        "v1 - v2"
      ],
      "execution_count": 44,
      "outputs": [
        {
          "output_type": "execute_result",
          "data": {
            "text/plain": [
              "tensor([[ 0.,  1.,  2.],\n",
              "        [-1.,  0.,  1.],\n",
              "        [-2., -1.,  0.]])"
            ]
          },
          "metadata": {
            "tags": []
          },
          "execution_count": 44
        }
      ]
    },
    {
      "cell_type": "code",
      "metadata": {
        "id": "7J5U6qwrylYu",
        "outputId": "c3ebfcab-fa7e-4224-f004-238c85f78982",
        "colab": {
          "base_uri": "https://localhost:8080/"
        }
      },
      "source": [
        "v1.size()"
      ],
      "execution_count": 45,
      "outputs": [
        {
          "output_type": "execute_result",
          "data": {
            "text/plain": [
              "torch.Size([1, 3])"
            ]
          },
          "metadata": {
            "tags": []
          },
          "execution_count": 45
        }
      ]
    },
    {
      "cell_type": "code",
      "metadata": {
        "id": "aUOn_FXQylYv",
        "outputId": "32462a95-6e60-4739-a5e3-22509bdf5d5e",
        "colab": {
          "base_uri": "https://localhost:8080/"
        }
      },
      "source": [
        "v2.size()"
      ],
      "execution_count": 46,
      "outputs": [
        {
          "output_type": "execute_result",
          "data": {
            "text/plain": [
              "torch.Size([3, 1])"
            ]
          },
          "metadata": {
            "tags": []
          },
          "execution_count": 46
        }
      ]
    },
    {
      "cell_type": "code",
      "metadata": {
        "id": "t40IMCE0ylYv",
        "outputId": "69d8d3a3-8502-449c-d357-a7904796287e",
        "colab": {
          "base_uri": "https://localhost:8080/"
        }
      },
      "source": [
        "v1 - v"
      ],
      "execution_count": 47,
      "outputs": [
        {
          "output_type": "execute_result",
          "data": {
            "text/plain": [
              "tensor([[0., 0., 0.]])"
            ]
          },
          "metadata": {
            "tags": []
          },
          "execution_count": 47
        }
      ]
    },
    {
      "cell_type": "code",
      "metadata": {
        "id": "hOEfUQElylYv",
        "outputId": "46af8365-6cbd-4c2c-f500-60b0682a08a7",
        "colab": {
          "base_uri": "https://localhost:8080/"
        }
      },
      "source": [
        "v2 - v"
      ],
      "execution_count": 48,
      "outputs": [
        {
          "output_type": "execute_result",
          "data": {
            "text/plain": [
              "tensor([[ 0., -1., -2.],\n",
              "        [ 1.,  0., -1.],\n",
              "        [ 2.,  1.,  0.]])"
            ]
          },
          "metadata": {
            "tags": []
          },
          "execution_count": 48
        }
      ]
    },
    {
      "cell_type": "markdown",
      "metadata": {
        "id": "eVH1A-OsylYv"
      },
      "source": [
        "## Data types\n",
        "\n",
        "We want to work with:\n",
        "\n",
        "* `torch.float32` (also know ans `float`, a floating-point number represented by 32 bits)\n",
        "* `torch.int64` (also know as `long`, an integer represented by 64 bits)\n",
        "\n",
        "\n",
        "See also:\n",
        "\n",
        "* [Floating Point Demystified, Part 1](http://blog.reverberate.org/2014/09/what-every-computer-programmer-should.html) by Josh Haberman\n",
        "* [Floating point visually explained](http://fabiensanglard.net/floating_point_visually_explained/) by Fabien Sanglard\n",
        "* http://0.30000000000000004.com/"
      ]
    },
    {
      "cell_type": "code",
      "metadata": {
        "id": "SAfQ2zFPylYv",
        "outputId": "573b5b6f-3497-4105-baf3-57d94b5fee0a",
        "colab": {
          "base_uri": "https://localhost:8080/"
        }
      },
      "source": [
        "x = torch.tensor([-23., 54.])\n",
        "x.dtype"
      ],
      "execution_count": 49,
      "outputs": [
        {
          "output_type": "execute_result",
          "data": {
            "text/plain": [
              "torch.float32"
            ]
          },
          "metadata": {
            "tags": []
          },
          "execution_count": 49
        }
      ]
    },
    {
      "cell_type": "code",
      "metadata": {
        "id": "0C0WkKs-ylYw",
        "outputId": "d39d822a-f784-4e26-8aae-e90a29c8e263",
        "colab": {
          "base_uri": "https://localhost:8080/"
        }
      },
      "source": [
        "y = torch.tensor([-23, 54])\n",
        "y.dtype"
      ],
      "execution_count": 50,
      "outputs": [
        {
          "output_type": "execute_result",
          "data": {
            "text/plain": [
              "torch.int64"
            ]
          },
          "metadata": {
            "tags": []
          },
          "execution_count": 50
        }
      ]
    },
    {
      "cell_type": "code",
      "metadata": {
        "id": "3yvN_oe1ylYw",
        "outputId": "5f4bfbca-45f0-4846-c27c-26901da3b111",
        "colab": {
          "base_uri": "https://localhost:8080/"
        }
      },
      "source": [
        "# it used to be an error in 1.2.x, in 1.3.x it's type promotion.\n",
        "x + y"
      ],
      "execution_count": 51,
      "outputs": [
        {
          "output_type": "execute_result",
          "data": {
            "text/plain": [
              "tensor([-46., 108.])"
            ]
          },
          "metadata": {
            "tags": []
          },
          "execution_count": 51
        }
      ]
    },
    {
      "cell_type": "code",
      "metadata": {
        "id": "ETL6IziVylYw",
        "outputId": "1128f87a-4e94-4b3b-b803-6d9f9eeefff8",
        "colab": {
          "base_uri": "https://localhost:8080/"
        }
      },
      "source": [
        "import numpy as np\n",
        "\n",
        "x_np = np.random.randn(3, 2)\n",
        "torch.from_numpy(x_np)  # likely to be float64"
      ],
      "execution_count": 52,
      "outputs": [
        {
          "output_type": "execute_result",
          "data": {
            "text/plain": [
              "tensor([[-1.5291,  0.5705],\n",
              "        [ 0.7882,  0.6742],\n",
              "        [-0.5615, -0.4352]], dtype=torch.float64)"
            ]
          },
          "metadata": {
            "tags": []
          },
          "execution_count": 52
        }
      ]
    },
    {
      "cell_type": "markdown",
      "metadata": {
        "id": "EecD1eHRylYw"
      },
      "source": [
        "## From/to GPU\n",
        "\n",
        "If you want to use GPU, in Colab use: **Runtime** -> **Change runtime time** -> **Hardware acceleration** -> **GPU**. "
      ]
    },
    {
      "cell_type": "code",
      "metadata": {
        "id": "InzFlL5GylYw"
      },
      "source": [
        "device = torch.device('cuda:0' if torch.cuda.is_available() else 'cpu')\n",
        "\n",
        "x = x.to(device)"
      ],
      "execution_count": 53,
      "outputs": []
    },
    {
      "cell_type": "code",
      "metadata": {
        "id": "pUiDePGtylYx"
      },
      "source": [
        "# much better than x.cuda() as it is more flexible"
      ],
      "execution_count": null,
      "outputs": []
    },
    {
      "cell_type": "code",
      "metadata": {
        "id": "UoGq9eE0ylYx"
      },
      "source": [
        "# if you want to turn it to NumPy\n",
        "x.cpu()"
      ],
      "execution_count": null,
      "outputs": []
    },
    {
      "cell_type": "code",
      "metadata": {
        "id": "O2EUgopxylYx"
      },
      "source": [
        ""
      ],
      "execution_count": null,
      "outputs": []
    }
  ]
}